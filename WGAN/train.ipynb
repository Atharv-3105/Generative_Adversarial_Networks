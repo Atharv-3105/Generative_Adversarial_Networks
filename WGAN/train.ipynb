{
 "cells": [
  {
   "cell_type": "code",
   "execution_count": null,
   "id": "13f11b9c",
   "metadata": {},
   "outputs": [],
   "source": [
    "import torch\n",
    "import torch.nn as nn\n",
    "import torch.optim as optim\n",
    "import torchvision\n",
    "import torchvision.datasets as datasets\n",
    "import torchvision.transforms as transforms\n",
    "from torch.utils.data import DataLoader\n",
    "from torch.utils.tensorboard import SummaryWriter\n",
    "from model import Generator,Critic,initialize_weights \n",
    "from utils import gradient_penalty\n"
   ]
  },
  {
   "cell_type": "markdown",
   "id": "139a5c88",
   "metadata": {},
   "source": [
    "### HYPERPARAMETERS"
   ]
  },
  {
   "cell_type": "code",
   "execution_count": null,
   "id": "8d13a24f",
   "metadata": {},
   "outputs": [],
   "source": [
    "DEVICE = torch.device(\"cuda\" if torch.cuda.is_available() else \"cpu\")\n",
    "LEARNING_RATE = 1e-4\n",
    "BATCH_SIZE = 64\n",
    "IMAGE_SIZE = 64\n",
    "IMG_CHANNELS = 1\n",
    "Z_DIM = 100\n",
    "NUM_EPOCHS = 5\n",
    "FEATURES_DISC = 64\n",
    "FEATURES_GENE = 64\n",
    "CRITIC_ITERATION = 5\n",
    "# WEIGTH_CLIP = 0.01 \"Use it when implementing WGAN without Gradient Penalty\"\n",
    "LAMBDA_GP = 10\n",
    "\n",
    "transforms = transforms.Compose(\n",
    "    [\n",
    "        transforms.Resize(IMAGE_SIZE),\n",
    "        transforms.ToTensor(),\n",
    "        transforms.Normalize(\n",
    "            [0.5 for _ in range(IMG_CHANNELS)], [0.5 for _ in range(IMG_CHANNELS)]\n",
    "        )\n",
    "    ]\n",
    ")\n",
    "\n",
    "\n"
   ]
  },
  {
   "cell_type": "code",
   "execution_count": null,
   "id": "6698183b",
   "metadata": {},
   "outputs": [],
   "source": [
    "dataset = datasets.ImageFolder(root = \"celeb_dataset\",transforms=transforms)\n",
    "loader = DataLoader(dataset, batch_size= BATCH_SIZE, shuffle=True)\n",
    "\n",
    "gene = Generator(Z_DIM,IMG_CHANNELS,FEATURES_GENE)\n",
    "critic = Critic(IMG_CHANNELS,FEATURES_DISC)\n",
    "initialize_weights(gene)\n",
    "initialize_weights(critic)"
   ]
  },
  {
   "cell_type": "code",
   "execution_count": null,
   "id": "4a164b17",
   "metadata": {},
   "outputs": [],
   "source": [
    "#========When Implementing WGAN without Gradient Penalty========\n",
    "# opt_gene = optim.RMSprop(gene.parameters(), lr=LEARNING_RATE)\n",
    "# opt_critic = optim.RMSprop(critic.parameters(), lr=LEARNING_RATE)\n",
    "\n",
    "#========When Implementing WGAN with Gradient Penalty========\n",
    "opt_gene = optim.Adam(gene.parmaeters(), lr=LEARNING_RATE, betas=(0.0, 0.9))\n",
    "opt_critic = optim.Adam(critic.parmaeters(), lr=LEARNING_RATE, betas=(0.0, 0.9))\n",
    "\n",
    "\n",
    "fixed_noise = torch.randn(32,Z_DIM,1,1).to(DEVICE)\n",
    "writer_real = SummaryWriter(f\"logs/real\")\n",
    "step = 0\n",
    "writer_fake = SummaryWriter(f\"logs/fake\")\n",
    "\n",
    "gene.train()\n",
    "critic.train()"
   ]
  },
  {
   "cell_type": "code",
   "execution_count": null,
   "id": "f0b3f370",
   "metadata": {},
   "outputs": [
    {
     "ename": "SyntaxError",
     "evalue": "incomplete input (817474334.py, line 8)",
     "output_type": "error",
     "traceback": [
      "\u001b[1;36m  Cell \u001b[1;32mIn[1], line 8\u001b[1;36m\u001b[0m\n\u001b[1;33m    for _ in range(CRITIC_ITERATION):\u001b[0m\n\u001b[1;37m                                     ^\u001b[0m\n\u001b[1;31mSyntaxError\u001b[0m\u001b[1;31m:\u001b[0m incomplete input\n"
     ]
    }
   ],
   "source": [
    "for epoch in range(NUM_EPOCHS):\n",
    "    for batch_idx, (real , _) in enumerate(loader):\n",
    "        real = real.to(DEVICE)\n",
    "        \n",
    "        #We want to train the Critic more\n",
    "        for _ in range(CRITIC_ITERATION):\n",
    "            noise = torch.randn(BATCH_SIZE,Z_DIM,1,1).to(DEVICE)\n",
    "            fake = gene(noise)\n",
    "            critic_real = critic(real).reshape(-1)\n",
    "            critic_fake = critic(fake).reshape(-1)\n",
    "            \n",
    "            #=========When Implementing WGAN without Gradient Penalty========\n",
    "            #loss_critic = -(torch.mean(critic_real) - torch.mean(critic_fake))\n",
    "            \n",
    "            #=========When Implementing WGAN with Gradient Penalty========\n",
    "            gp = gradient_penalty(critic,real,fake,LAMBDA_GP, device=DEVICE)\n",
    "            loss_critic = (\n",
    "                -(torch.mean(critic_real) - torch.mean(critic_fake)) + LAMBDA_GP * gp\n",
    "            )\n",
    "            \n",
    "            \n",
    "            critic.zero_grad()\n",
    "            loss_critic.backward(retain_graph=True)\n",
    "            opt_critic.step()\n",
    "            \n",
    "            #=========When Implementing WGAN without Gradient Penalty=========\n",
    "            #for p in critic.parameters():\n",
    "            #     p.data.clamp_(-WEIGTH_CLIP, WEIGTH_CLIP) \n",
    "        \n",
    "        #Train Generator: minimize -E[critic(gen_fake)]\n",
    "        output = critic(fake).reshape(-1)\n",
    "        loss_gene = -torch.mean(output)\n",
    "        gene.zero_grad()\n",
    "        loss_gene.backward()\n",
    "        opt_gene.step()\n",
    "        \n",
    "        #Print the results at certain batch_idx for visualization purpose\n",
    "        if batch_idx % 100 == 0:\n",
    "            print(f\"Epoch [{epoch}/{NUM_EPOCHS}] Batch {batch_idx}/{len(loader)} \\\n",
    "                    Loss Critic: {(loss_critic*100):.4f}% , Loss Gene: {(loss_gene*100):.4f}%\")\n",
    "            \n",
    "            with torch.no_grad():\n",
    "                fake = gene(fixed_noise)\n",
    "                img_grid_real = torchvision.utils.make_grid(real[:32],normalize=True)\n",
    "                img_grid_fake = torchvision.utils.make_grid(fake[:32], normalize=True)\n",
    "                \n",
    "                writer_real.add_image(\"Real\",img_grid_real,global_step=step)\n",
    "                writer_fake.add_image(\"Fake\", img_grid_fake, global_step=step)\n",
    "            step += 1   \n",
    "        \n",
    "        \n",
    "            "
   ]
  },
  {
   "cell_type": "code",
   "execution_count": null,
   "id": "f13dd188",
   "metadata": {},
   "outputs": [],
   "source": []
  }
 ],
 "metadata": {
  "kernelspec": {
   "display_name": "Python 3",
   "language": "python",
   "name": "python3"
  },
  "language_info": {
   "codemirror_mode": {
    "name": "ipython",
    "version": 3
   },
   "file_extension": ".py",
   "mimetype": "text/x-python",
   "name": "python",
   "nbconvert_exporter": "python",
   "pygments_lexer": "ipython3",
   "version": "3.12.3"
  }
 },
 "nbformat": 4,
 "nbformat_minor": 5
}
