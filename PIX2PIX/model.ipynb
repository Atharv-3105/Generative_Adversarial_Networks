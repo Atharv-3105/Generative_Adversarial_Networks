{
 "cells": [
  {
   "cell_type": "markdown",
   "id": "85b2efa9",
   "metadata": {},
   "source": [
    "# Pix2Pix Paper Implementation \n"
   ]
  },
  {
   "cell_type": "markdown",
   "id": "2df1110c",
   "metadata": {},
   "source": [
    "## Discriminator Architecture"
   ]
  },
  {
   "cell_type": "code",
   "execution_count": 3,
   "id": "29db0af6",
   "metadata": {},
   "outputs": [],
   "source": [
    "import torch\n",
    "import torch.nn as nn"
   ]
  },
  {
   "cell_type": "markdown",
   "id": "4e03d78b",
   "metadata": {},
   "source": [
    "- We will use CNNBlock 4 times only as we want our features scaled from 64 to 512{64->128->256->512}"
   ]
  },
  {
   "cell_type": "code",
   "execution_count": 4,
   "id": "ae6f57ba",
   "metadata": {},
   "outputs": [],
   "source": [
    "class CNNBlock(nn.Module):\n",
    "    def __init__(self, in_channels, out_channels, stride = 2):\n",
    "        super().__init__()\n",
    "        self.conv = nn.Sequential(\n",
    "            nn.Conv2d(in_channels, out_channels, kernel_size=4, stride=stride, padding_mode=\"reflect\", bias=False),  #\"reflect\":- pads with relfections(mirroring) of the input; Usefult to reduce edge artifacts\n",
    "            nn.BatchNorm2d(out_channels),\n",
    "            nn.LeakyReLU(0.2)\n",
    "        )\n",
    "    \n",
    "    def forward(self, x):\n",
    "        return self.conv(x)\n",
    "        \n",
    "        "
   ]
  },
  {
   "cell_type": "markdown",
   "id": "d6eaf56f",
   "metadata": {},
   "source": [
    "- We are giving (Image + Target) as the input to the Discriminator hence we will multiply in_channels by 2 as the total number of channels are 6 i.e 3 RGB channels from Image + 3 RGB channels from Target_image"
   ]
  },
  {
   "cell_type": "code",
   "execution_count": 5,
   "id": "dbb5a80a",
   "metadata": {},
   "outputs": [],
   "source": [
    "class Discriminator(nn.Module):\n",
    "    def __init__(self, in_channels = 3, features = [64,128,256,512]):\n",
    "        super().__init__()\n",
    "        self.initial = nn.Sequential(\n",
    "            nn.Conv2d(in_channels*2, features[0], kernel_size=4, stride=2, padding=1, padding_mode='reflect'),\n",
    "            nn.LeakyReLU(0.2),\n",
    "        )\n",
    "        \n",
    "        layers = []\n",
    "        in_channels = features[0]\n",
    "        for feature in features[1:]:\n",
    "            layers.append(\n",
    "                CNNBlock(in_channels=in_channels, out_channels=feature, stride=1 if feature == features[-1] else 2),\n",
    "            )\n",
    "            in_channels = feature\n",
    "            \n",
    "        #Add a final_convolution layer to output a single channel instead of 512\n",
    "        layers.append(\n",
    "            nn.Conv2d(in_channels, 1, kernel_size=4, stride=1, padding=1, padding_mode=\"reflect\")\n",
    "        )\n",
    "        \n",
    "        #We have packed the CNNBlocks into a list; Now we will unpack it \n",
    "        self.model = nn.Sequential(*layers)\n",
    "        \n",
    "    def forward(self, x, target):\n",
    "        x = torch.cat([x, target], dim=1)\n",
    "        return self.model(self.initial(x))\n",
    "        \n",
    "        "
   ]
  },
  {
   "cell_type": "code",
   "execution_count": 6,
   "id": "b3eb3aee",
   "metadata": {},
   "outputs": [
    {
     "name": "stdout",
     "output_type": "stream",
     "text": [
      "torch.Size([1, 1, 26, 26])\n"
     ]
    }
   ],
   "source": [
    "def test():\n",
    "    x = torch.randn((1,3,256,256))\n",
    "    y = torch.randn((1,3,256,256))\n",
    "    model = Discriminator()\n",
    "    preds = model(x,y)\n",
    "    print(preds.shape)\n",
    "    \n",
    "test()"
   ]
  },
  {
   "cell_type": "markdown",
   "id": "5bdcb9b4",
   "metadata": {},
   "source": [
    "## Generator Architecture"
   ]
  },
  {
   "cell_type": "code",
   "execution_count": 7,
   "id": "890965ed",
   "metadata": {},
   "outputs": [],
   "source": [
    "class Block(nn.Module):\n",
    "    def __init__(self, in_channels, out_channels, down=True, use_dropout = False, act=\"relu\"):\n",
    "        super().__init__()\n",
    "        self.conv = nn.Sequential(\n",
    "            nn.Conv2d(in_channels,out_channels, kernel_size=4, stride=2, padding=1, bias=False ,padding_mode=\"reflect\")\n",
    "            if down #It means Conv2d() will act when we are in the Down phase of our UNET like Block\n",
    "            else nn.ConvTranspose2d(in_channels, out_channels, kernel_size=4, stride=2, padding=1, bias=False), #It means ConvTranspose2d() will act when we are in the Up phase of our UNET like Block\n",
    "            nn.BatchNorm2d(out_channels),\n",
    "            nn.ReLU() if act==\"relu\" else nn.LeakyReLU(0.2),   \n",
    "        )\n",
    "        self.use_dropout = use_dropout\n",
    "        self.dropout = nn.Dropout(0.5)\n",
    "    \n",
    "    def forward(self, x):\n",
    "        x = self.conv(x)\n",
    "        return self.dropout(x) if self.use_dropout else x\n",
    "    "
   ]
  },
  {
   "cell_type": "code",
   "execution_count": 8,
   "id": "333107c5",
   "metadata": {},
   "outputs": [],
   "source": [
    "class Generator(nn.Module):\n",
    "    def __init__(self, in_channels = 3, features = 64):\n",
    "        super().__init__()\n",
    "        #We will not use BatchNormalization in the first layer\n",
    "        self.initial_down = nn.Sequential(\n",
    "            nn.Conv2d(in_channels, features, 4, 2, 1,padding_mode=\"reflect\"),\n",
    "            nn.LeakyReLU(0.2),\n",
    "        ) #256----->128\n",
    "        self.down1 = Block(features, features*2, act=\"leaky\", use_dropout=False)#128----->64\n",
    "        self.down2 = Block(features*2, features*4, act=\"leaky\", use_dropout=False)#64----->32\n",
    "        self.down3 = Block(features*4, features*8, act=\"leaky\", use_dropout=False)#32----->16\n",
    "        self.down4 = Block(features*8, features*8, act=\"leaky\", use_dropout=False)#16----->8\n",
    "        self.down5 = Block(features*8, features*8, act=\"leaky\", use_dropout=False)#8----->4\n",
    "        self.down6 = Block(features*8, features*8, act=\"leaky\", use_dropout=False)#4----->2\n",
    "        \n",
    "        self.bottleneck = nn.Sequential(\n",
    "            nn.Conv2d(features*8, features*8, 4, 2, 1, padding_mode=\"reflect\"),\n",
    "            nn.ReLU(),\n",
    "        )\n",
    "        \n",
    "        self.up1 = Block(features*8, features*8, down=False ,act=\"relu\", use_dropout=True)\n",
    "        self.up2 = Block(features*8*2, features*8, down=False ,act=\"relu\", use_dropout=True)\n",
    "        self.up3 = Block(features*8*2, features*8, down=False ,act=\"relu\", use_dropout=True)\n",
    "        self.up4 = Block(features*8*2, features*8, down=False ,act=\"relu\", use_dropout=False)\n",
    "        self.up5 = Block(features*8*2, features*4, down=False ,act=\"relu\", use_dropout=False)\n",
    "        self.up6 = Block(features*4*2, features*2, down=False ,act=\"relu\", use_dropout=False)\n",
    "        self.up7 = Block(features*2*2, features, down=False ,act=\"relu\", use_dropout=False)\n",
    "        \n",
    "        self.final_up = nn.Sequential(\n",
    "            nn.ConvTranspose2d(in_channels=features*2, out_channels=in_channels, kernel_size=4, stride=2, padding=1),\n",
    "            nn.Tanh(), #As we want the pixels values to be between -1 and 1\n",
    "        )\n",
    "        \n",
    "    def forward(self, x):\n",
    "        d1 = self.initial_down(x)\n",
    "        d2 = self.down1(d1)\n",
    "        d3 = self.down2(d2)\n",
    "        d4 = self.down3(d3)\n",
    "        d5 = self.down4(d4)\n",
    "        d6 = self.down5(d5)\n",
    "        d7 = self.down6(d6)\n",
    "        \n",
    "        bottleneck = self.bottleneck(d7)\n",
    "        \n",
    "        #For the Up Phase we need to concatenate the up_convolution with the respective down_convolution\n",
    "        up1 = self.up1(bottleneck)\n",
    "        up2 = self.up2(torch.cat([up1, d7], dim=1))\n",
    "        up3 = self.up3(torch.cat([up2, d6], dim=1))\n",
    "        up4 = self.up4(torch.cat([up3, d5], dim=1))\n",
    "        up5 = self.up5(torch.cat([up4, d4], dim=1))\n",
    "        up6 = self.up6(torch.cat([up5, d3], dim=1))\n",
    "        up7 = self.up7(torch.cat([up6, d2], dim=1))\n",
    "        \n",
    "        return self.final_up(torch.cat([up7, d1], dim=1))"
   ]
  },
  {
   "cell_type": "code",
   "execution_count": 10,
   "id": "e07adf7e",
   "metadata": {},
   "outputs": [
    {
     "name": "stdout",
     "output_type": "stream",
     "text": [
      "torch.Size([1, 3, 256, 256])\n"
     ]
    }
   ],
   "source": [
    "def test():\n",
    "    x = torch.randn((1,3,256,256))\n",
    "    model = Generator(in_channels=3, features=64)\n",
    "    preds = model(x)\n",
    "    print(preds.shape)\n",
    "    \n",
    "test()"
   ]
  },
  {
   "cell_type": "markdown",
   "id": "cf19c495",
   "metadata": {},
   "source": [
    "## Dataset Loading "
   ]
  },
  {
   "cell_type": "markdown",
   "id": "bf74a278",
   "metadata": {},
   "source": [
    "#### Albumenations For Image Pre-Processing"
   ]
  },
  {
   "cell_type": "code",
   "execution_count": null,
   "id": "d53deccc",
   "metadata": {},
   "outputs": [],
   "source": [
    "import torch\n",
    "import albumentations as A\n",
    "from albumentations.pytorch import ToTensorV2"
   ]
  },
  {
   "cell_type": "code",
   "execution_count": null,
   "id": "61dbdb36",
   "metadata": {},
   "outputs": [],
   "source": [
    "DEVICE = \"cuda\" if torch.cuda.is_available() else \"cpu\"\n",
    "LEARNING_RATE = 2e-4\n",
    "BATCH_SIZE = 16\n",
    "NUM_WORKERS = 2\n",
    "IMAGE_SIZE = 256\n",
    "CHANNELS_IMG = 3\n",
    "L1_LAMBDA = 100\n",
    "NUM_EPOCHS = 500\n",
    "LOAD_MODEL = False\n",
    "SAVE_MODEL = True\n",
    "CHECKPOINT_DISC = \"disc.pth.tar\"\n",
    "CHECKPOINT_GEN = \"gen.pth.tar\"\n",
    "\n",
    "both_transform = A.Compose([\n",
    "    A.Resize(width=256,height=256)],\n",
    "    additional_targets={\"image0\":\"image\"},\n",
    ")\n",
    "\n",
    "transform_only_input = A.Compose(\n",
    "    [\n",
    "        A.Normalize(mean=[0.5,0.5,0.5], std=[0.5,0.5,0.5], max_pixel_value=255.0),\n",
    "        ToTensorV2(),\n",
    "    ]\n",
    ")\n",
    "transform_only_mask = A.Compose([\n",
    "    A.Normalize(mean=[0.5,0.5,0.5], std=[0.5,0.5,0.5], max_pixel_value=255.0),\n",
    "    ToTensorV2(),\n",
    "])\n",
    "\n"
   ]
  },
  {
   "cell_type": "code",
   "execution_count": null,
   "id": "de73e741",
   "metadata": {},
   "outputs": [],
   "source": [
    "from PIL import Image\n",
    "import numpy as np\n",
    "import os\n",
    "from torch.utils.data import Dataset"
   ]
  },
  {
   "cell_type": "code",
   "execution_count": null,
   "id": "5e91928b",
   "metadata": {},
   "outputs": [],
   "source": [
    "class SatDataset(Dataset):\n",
    "    def __init__(self, root_dir):\n",
    "        self.root_dir = root_dir\n",
    "        self.list_files = os.listdir(self.root_dir)\n",
    "        print(self.list_files)\n",
    "        \n",
    "    def __len__(self):\n",
    "        return len(self.list_files)\n",
    "    \n",
    "    def __getitem__(self, index):\n",
    "        img_file = self.list_files[index]\n",
    "        img_path = os.path.join(self.root_dir, img_file)\n",
    "        image = np.array(Image.open(img_path))\n",
    "        \n",
    "        #Since our image contains both the Input_Image and the Target_Image so we will slice the imamge from middle\n",
    "        input_image = image[:, :600, :]  \n",
    "        target_image = image[:, 600:, :]\n",
    "        \n",
    "        # augmentations = config.both_transform(image = input_image, image0 = target_image)\n",
    "        # input_image , target_image = augmentations[\"image\"], augmentations[\"image0\"]\n",
    "        # input_image = config.transform_only_input(image = input_image)[\"image\"]\n",
    "        # target_image = config.transform_only_mask(image= target_image)[\"image\"]\n",
    "        \n",
    "        augmentations = both_transform(image = input_image, image0 = target_image)\n",
    "        input_image , target_image = augmentations[\"image\"], augmentations[\"image0\"]\n",
    "        input_image = transform_only_input(image = input_image)[\"iamge\"]\n",
    "        target_image = transform_only_mask(image = target_image)[\"image\"]\n",
    "        \n",
    "        return input_image, target_image\n",
    "        \n",
    "        \n",
    "        "
   ]
  },
  {
   "cell_type": "markdown",
   "id": "9714fb9f",
   "metadata": {},
   "source": [
    "## Train Loop"
   ]
  },
  {
   "cell_type": "code",
   "execution_count": null,
   "id": "218f1124",
   "metadata": {},
   "outputs": [],
   "source": [
    "import torch\n",
    "import torch.nn as nn\n",
    "import torch.optim as optim\n",
    "from utils import save_checkpoint,save_image,save_some_examples,load_checkpoint\n",
    "import config\n",
    "from dataset import SatDataset\n",
    "from genenrator import Generator\n",
    "from discriminator import Discriminator\n",
    "from torch.utils.data import DataLoader\n",
    "from tqdm import tqdm\n"
   ]
  },
  {
   "cell_type": "code",
   "execution_count": null,
   "id": "618a529b",
   "metadata": {},
   "outputs": [],
   "source": [
    "def train_fun():\n",
    "    pass"
   ]
  },
  {
   "cell_type": "code",
   "execution_count": null,
   "id": "df1dd0b5",
   "metadata": {},
   "outputs": [],
   "source": [
    "import torch.amp\n",
    "\n",
    "\n",
    "def main():\n",
    "    disc = Discriminator(in_channels=3).to(config.DEVICE)\n",
    "    gene = Generator(in_channels=3).to(config.DEVICE)\n",
    "    opt_disc = optim.Adam(disc.parameters(), lr=config.LEARNING_RATE, betas=(0.5, 0.999))\n",
    "    opt_gene = optim.Adam(gene.parameters(), lr=config.LEARNING_RATE, betas=(0.5, 0.999))\n",
    "    BCE_Loss = nn.BCEWithLogitsLoss()\n",
    "    L1_Loss = nn.L1Loss()\n",
    "    \n",
    "    if config.LOAD_MODEL:\n",
    "        load_checkpoint(config.CHECKPOINT_GEN, gene, opt_gene, lr=config.LEARNING_RATE)\n",
    "        load_checkpoint(config.CHECKPOINT_DISC, disc, opt_disc, lr=config.LEARNING_RATE)\n",
    "    \n",
    "    train_dataset = SatDataset(root_dir=\"data/maps/train\")   \n",
    "    train_loader = DataLoader(train_dataset, batch_size=config.BATCH_SIZE, shuffle=True, num_workers=config.NUM_WORKERS)\n",
    "    \n",
    "    #We will do float16 training which requires less compute\n",
    "    g_scaler = torch.amp.GradScaler()\n",
    "    d_scaler = torch.amp.GradScaler()\n",
    "    \n",
    "    val_dataset = SatDataset(root_dir=\"data/maps/val\")\n",
    "    val_loader = DataLoader(val_dataset, batch_size=config.BATCH_SIZE, shuffle=False)\n",
    "    \n",
    "    for epoch in tqdm(range(config.NUM_EPOCHS)):\n",
    "        train_fun(disc, gene, train_loader, val_loader,opt_disc, opt_gene, L1_Loss, BCE_Loss, g_scaler, d_scaler)\n",
    "        \n",
    "        if config.SAVE_MODEL and epoch % 5 == 0:\n",
    "            save_checkpoint()\n",
    "        \n",
    "        \n",
    "    "
   ]
  }
 ],
 "metadata": {
  "kernelspec": {
   "display_name": "Python 3",
   "language": "python",
   "name": "python3"
  },
  "language_info": {
   "codemirror_mode": {
    "name": "ipython",
    "version": 3
   },
   "file_extension": ".py",
   "mimetype": "text/x-python",
   "name": "python",
   "nbconvert_exporter": "python",
   "pygments_lexer": "ipython3",
   "version": "3.12.3"
  }
 },
 "nbformat": 4,
 "nbformat_minor": 5
}
